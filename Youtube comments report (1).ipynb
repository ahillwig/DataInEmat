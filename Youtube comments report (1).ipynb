{
 "cells": [
  {
   "cell_type": "markdown",
   "metadata": {},
   "source": [
    "# Youtube Vaccine Comments Report\n",
    "# Author: Alex Hillwig"
   ]
  },
  {
   "cell_type": "markdown",
   "metadata": {},
   "source": [
    "## Overview\n",
    "In this report, I want to analyze the data of commenters on youtube that are talking about vaccines and that have any anti-vaccine sentiments.\n",
    "\n",
    "My hypothesis is that comments that contain mentions of metals such as aluminum, mercury and lead will also have a higher likelihood to contain mentions of autism."
   ]
  },
  {
   "cell_type": "markdown",
   "metadata": {},
   "source": [
    "## Data\n",
    "\n",
    "For this report, I used a CSV file of collected Youtube Data between the dates of December 14, 2020 and December 16, 2020 that was provided to my by Professor Silva, who is just the coolest guy. The data comes from the Youtube API.\n",
    "\n",
    "To begin I had to load in the various systems I would be using for my analysis, including pandas for datasets, nltk to parse the words from the data set and sort or remove certain words, counter to collect how many of each word there are, and pyplot to visualize the data."
   ]
  },
  {
   "cell_type": "code",
   "execution_count": 5,
   "metadata": {},
   "outputs": [],
   "source": [
    "import pandas as pd\n",
    "import nltk\n",
    "from datetime import datetime as dt\n",
    "from nltk import tokenize as tk\n",
    "from nltk import FreqDist\n",
    "from nltk.corpus import stopwords\n",
    "import string\n",
    "from collections import Counter\n",
    "from matplotlib import pyplot as plt\n",
    "from vaderSentiment.vaderSentiment import SentimentIntensityAnalyzer\n",
    "import warnings"
   ]
  },
  {
   "cell_type": "markdown",
   "metadata": {},
   "source": [
    "I then had to read in the csv file that was provided to me, and then look at the keys to see what I may want to sort the data by."
   ]
  },
  {
   "cell_type": "code",
   "execution_count": 6,
   "metadata": {},
   "outputs": [
    {
     "data": {
      "text/plain": [
       "Index(['Date', 'Title', 'Url', 'Domain', 'Page Type', 'Language', 'Author',\n",
       "       'Full Name', 'Full Text', 'Original Url', 'Thread Entry Type',\n",
       "       'Page Type Name', 'Pub Type'],\n",
       "      dtype='object')"
      ]
     },
     "execution_count": 6,
     "metadata": {},
     "output_type": "execute_result"
    }
   ],
   "source": [
    "you_uniq = pd.read_csv(r\"C:\\Users\\jchil\\Downloads\\YouTubeVaccination_Dec14-Dec26_2021_fixed.csv\")\n",
    "you_uniq.keys()"
   ]
  },
  {
   "cell_type": "markdown",
   "metadata": {},
   "source": [
    "I then wanted to read only the english words from the data set, as it was the only language I can parse through to pull my conclusions from."
   ]
  },
  {
   "cell_type": "code",
   "execution_count": 7,
   "metadata": {
    "scrolled": true
   },
   "outputs": [
    {
     "data": {
      "text/html": [
       "<div>\n",
       "<style scoped>\n",
       "    .dataframe tbody tr th:only-of-type {\n",
       "        vertical-align: middle;\n",
       "    }\n",
       "\n",
       "    .dataframe tbody tr th {\n",
       "        vertical-align: top;\n",
       "    }\n",
       "\n",
       "    .dataframe thead th {\n",
       "        text-align: right;\n",
       "    }\n",
       "</style>\n",
       "<table border=\"1\" class=\"dataframe\">\n",
       "  <thead>\n",
       "    <tr style=\"text-align: right;\">\n",
       "      <th></th>\n",
       "      <th>Date</th>\n",
       "      <th>Title</th>\n",
       "      <th>Url</th>\n",
       "      <th>Domain</th>\n",
       "      <th>Page Type</th>\n",
       "      <th>Language</th>\n",
       "      <th>Author</th>\n",
       "      <th>Full Name</th>\n",
       "      <th>Full Text</th>\n",
       "      <th>Original Url</th>\n",
       "      <th>Thread Entry Type</th>\n",
       "      <th>Page Type Name</th>\n",
       "      <th>Pub Type</th>\n",
       "    </tr>\n",
       "  </thead>\n",
       "  <tbody>\n",
       "    <tr>\n",
       "      <th>0</th>\n",
       "      <td>12/26/2020 23:56</td>\n",
       "      <td>Comment on video https://www.youtube.com/watch...</td>\n",
       "      <td>https://www.youtube.com/watch?v=sT80A5uPREolc=...</td>\n",
       "      <td>youtube.com</td>\n",
       "      <td>youtube</td>\n",
       "      <td>en</td>\n",
       "      <td>RJ MacReady</td>\n",
       "      <td>RJ MacReady</td>\n",
       "      <td>I got the Moderna vaccine, hereâ€™s my list of...</td>\n",
       "      <td>https://www.youtube.com/watch?v=sT80A5uPREolc=...</td>\n",
       "      <td>reply</td>\n",
       "      <td>YouTube</td>\n",
       "      <td>VCOMMENT</td>\n",
       "    </tr>\n",
       "    <tr>\n",
       "      <th>1</th>\n",
       "      <td>12/26/2020 23:36</td>\n",
       "      <td>Comment on video https://www.youtube.com/watch...</td>\n",
       "      <td>https://www.youtube.com/watch?v=dxVCqwAD8gQlc=...</td>\n",
       "      <td>youtube.com</td>\n",
       "      <td>youtube</td>\n",
       "      <td>en</td>\n",
       "      <td>dontaskme</td>\n",
       "      <td>dontaskme</td>\n",
       "      <td>@Charlotte Haggerty Do you really believe ever...</td>\n",
       "      <td>https://www.youtube.com/watch?v=dxVCqwAD8gQlc=...</td>\n",
       "      <td>reply</td>\n",
       "      <td>YouTube</td>\n",
       "      <td>VCOMMENT</td>\n",
       "    </tr>\n",
       "    <tr>\n",
       "      <th>2</th>\n",
       "      <td>12/26/2020 23:34</td>\n",
       "      <td>Comment on video https://www.youtube.com/watch...</td>\n",
       "      <td>https://www.youtube.com/watch?v=2Wz7KvLFgYQlc=...</td>\n",
       "      <td>youtube.com</td>\n",
       "      <td>youtube</td>\n",
       "      <td>en</td>\n",
       "      <td>Salavin</td>\n",
       "      <td>Salavin</td>\n",
       "      <td>I hate it when they say \"You don't want a covi...</td>\n",
       "      <td>https://www.youtube.com/watch?v=2Wz7KvLFgYQlc=...</td>\n",
       "      <td>reply</td>\n",
       "      <td>YouTube</td>\n",
       "      <td>VCOMMENT</td>\n",
       "    </tr>\n",
       "    <tr>\n",
       "      <th>3</th>\n",
       "      <td>12/26/2020 23:30</td>\n",
       "      <td>Comment on video https://www.youtube.com/watch...</td>\n",
       "      <td>https://www.youtube.com/watch?v=dxVCqwAD8gQlc=...</td>\n",
       "      <td>youtube.com</td>\n",
       "      <td>youtube</td>\n",
       "      <td>en</td>\n",
       "      <td>dontaskme</td>\n",
       "      <td>dontaskme</td>\n",
       "      <td>@Sweet Heart Well, Quantas, an Australian airl...</td>\n",
       "      <td>https://www.youtube.com/watch?v=dxVCqwAD8gQlc=...</td>\n",
       "      <td>reply</td>\n",
       "      <td>YouTube</td>\n",
       "      <td>VCOMMENT</td>\n",
       "    </tr>\n",
       "    <tr>\n",
       "      <th>4</th>\n",
       "      <td>12/26/2020 23:27</td>\n",
       "      <td>Comment on video https://www.youtube.com/watch...</td>\n",
       "      <td>https://www.youtube.com/watch?v=7VG_s2PCH_clc=...</td>\n",
       "      <td>youtube.com</td>\n",
       "      <td>youtube</td>\n",
       "      <td>en</td>\n",
       "      <td>Kristi Allman</td>\n",
       "      <td>Kristi Allman</td>\n",
       "      <td>@AngryAngy Here they recommend a flu shot duri...</td>\n",
       "      <td>https://www.youtube.com/watch?v=7VG_s2PCH_clc=...</td>\n",
       "      <td>reply</td>\n",
       "      <td>YouTube</td>\n",
       "      <td>VCOMMENT</td>\n",
       "    </tr>\n",
       "    <tr>\n",
       "      <th>...</th>\n",
       "      <td>...</td>\n",
       "      <td>...</td>\n",
       "      <td>...</td>\n",
       "      <td>...</td>\n",
       "      <td>...</td>\n",
       "      <td>...</td>\n",
       "      <td>...</td>\n",
       "      <td>...</td>\n",
       "      <td>...</td>\n",
       "      <td>...</td>\n",
       "      <td>...</td>\n",
       "      <td>...</td>\n",
       "      <td>...</td>\n",
       "    </tr>\n",
       "    <tr>\n",
       "      <th>12486</th>\n",
       "      <td>12/13/2020 0:12</td>\n",
       "      <td>Comment on video https://www.youtube.com/watch...</td>\n",
       "      <td>http://www.youtube.com/all_comments?v=JMEK0-zO...</td>\n",
       "      <td>youtube.com</td>\n",
       "      <td>youtube</td>\n",
       "      <td>en</td>\n",
       "      <td>Sarah Wales</td>\n",
       "      <td>NaN</td>\n",
       "      <td>Pfizer - The most fined Corporation in the US ...</td>\n",
       "      <td>http://www.youtube.com/all_comments?v=JMEK0-zO...</td>\n",
       "      <td>reply</td>\n",
       "      <td>YouTube</td>\n",
       "      <td>VCOMMENT</td>\n",
       "    </tr>\n",
       "    <tr>\n",
       "      <th>12487</th>\n",
       "      <td>12/13/2020 0:11</td>\n",
       "      <td>Comment on video https://www.youtube.com/watch...</td>\n",
       "      <td>https://www.youtube.com/watch?v=aWAly3INavMlc=...</td>\n",
       "      <td>youtube.com</td>\n",
       "      <td>youtube</td>\n",
       "      <td>en</td>\n",
       "      <td>Damoreah Mitchell</td>\n",
       "      <td>NaN</td>\n",
       "      <td>How is this women the first person to get the ...</td>\n",
       "      <td>https://www.youtube.com/watch?v=aWAly3INavMlc=...</td>\n",
       "      <td>reply</td>\n",
       "      <td>YouTube</td>\n",
       "      <td>VCOMMENT</td>\n",
       "    </tr>\n",
       "    <tr>\n",
       "      <th>12488</th>\n",
       "      <td>12/13/2020 0:07</td>\n",
       "      <td>Comment on video https://www.youtube.com/watch...</td>\n",
       "      <td>http://www.youtube.com/all_comments?v=XWG_Jypo...</td>\n",
       "      <td>youtube.com</td>\n",
       "      <td>youtube</td>\n",
       "      <td>en</td>\n",
       "      <td>Adelaide Hemlock</td>\n",
       "      <td>NaN</td>\n",
       "      <td>Breast cancer survivor: good question! Iâ€™ve ...</td>\n",
       "      <td>http://www.youtube.com/all_comments?v=XWG_Jypo...</td>\n",
       "      <td>reply</td>\n",
       "      <td>YouTube</td>\n",
       "      <td>VCOMMENT</td>\n",
       "    </tr>\n",
       "    <tr>\n",
       "      <th>12489</th>\n",
       "      <td>12/13/2020 0:02</td>\n",
       "      <td>Comment on video https://www.youtube.com/watch...</td>\n",
       "      <td>http://www.youtube.com/all_comments?v=tG7CzK5J...</td>\n",
       "      <td>youtube.com</td>\n",
       "      <td>youtube</td>\n",
       "      <td>en</td>\n",
       "      <td>Flumazenil</td>\n",
       "      <td>NaN</td>\n",
       "      <td>Panel members first to get the vaccine.</td>\n",
       "      <td>http://www.youtube.com/all_comments?v=tG7CzK5J...</td>\n",
       "      <td>reply</td>\n",
       "      <td>YouTube</td>\n",
       "      <td>VCOMMENT</td>\n",
       "    </tr>\n",
       "    <tr>\n",
       "      <th>12490</th>\n",
       "      <td>12/13/2020 0:01</td>\n",
       "      <td>Comment on video https://www.youtube.com/watch...</td>\n",
       "      <td>http://www.youtube.com/all_comments?v=zhTmjZVR...</td>\n",
       "      <td>youtube.com</td>\n",
       "      <td>youtube</td>\n",
       "      <td>en</td>\n",
       "      <td>H</td>\n",
       "      <td>NaN</td>\n",
       "      <td>@Tom R It won't return that easily. Many busin...</td>\n",
       "      <td>http://www.youtube.com/all_comments?v=zhTmjZVR...</td>\n",
       "      <td>reply</td>\n",
       "      <td>YouTube</td>\n",
       "      <td>VCOMMENT</td>\n",
       "    </tr>\n",
       "  </tbody>\n",
       "</table>\n",
       "<p>12491 rows × 13 columns</p>\n",
       "</div>"
      ],
      "text/plain": [
       "                   Date                                              Title  \\\n",
       "0      12/26/2020 23:56  Comment on video https://www.youtube.com/watch...   \n",
       "1      12/26/2020 23:36  Comment on video https://www.youtube.com/watch...   \n",
       "2      12/26/2020 23:34  Comment on video https://www.youtube.com/watch...   \n",
       "3      12/26/2020 23:30  Comment on video https://www.youtube.com/watch...   \n",
       "4      12/26/2020 23:27  Comment on video https://www.youtube.com/watch...   \n",
       "...                 ...                                                ...   \n",
       "12486   12/13/2020 0:12  Comment on video https://www.youtube.com/watch...   \n",
       "12487   12/13/2020 0:11  Comment on video https://www.youtube.com/watch...   \n",
       "12488   12/13/2020 0:07  Comment on video https://www.youtube.com/watch...   \n",
       "12489   12/13/2020 0:02  Comment on video https://www.youtube.com/watch...   \n",
       "12490   12/13/2020 0:01  Comment on video https://www.youtube.com/watch...   \n",
       "\n",
       "                                                     Url       Domain  \\\n",
       "0      https://www.youtube.com/watch?v=sT80A5uPREolc=...  youtube.com   \n",
       "1      https://www.youtube.com/watch?v=dxVCqwAD8gQlc=...  youtube.com   \n",
       "2      https://www.youtube.com/watch?v=2Wz7KvLFgYQlc=...  youtube.com   \n",
       "3      https://www.youtube.com/watch?v=dxVCqwAD8gQlc=...  youtube.com   \n",
       "4      https://www.youtube.com/watch?v=7VG_s2PCH_clc=...  youtube.com   \n",
       "...                                                  ...          ...   \n",
       "12486  http://www.youtube.com/all_comments?v=JMEK0-zO...  youtube.com   \n",
       "12487  https://www.youtube.com/watch?v=aWAly3INavMlc=...  youtube.com   \n",
       "12488  http://www.youtube.com/all_comments?v=XWG_Jypo...  youtube.com   \n",
       "12489  http://www.youtube.com/all_comments?v=tG7CzK5J...  youtube.com   \n",
       "12490  http://www.youtube.com/all_comments?v=zhTmjZVR...  youtube.com   \n",
       "\n",
       "      Page Type Language             Author      Full Name  \\\n",
       "0       youtube       en        RJ MacReady    RJ MacReady   \n",
       "1       youtube       en          dontaskme      dontaskme   \n",
       "2       youtube       en            Salavin        Salavin   \n",
       "3       youtube       en          dontaskme      dontaskme   \n",
       "4       youtube       en      Kristi Allman  Kristi Allman   \n",
       "...         ...      ...                ...            ...   \n",
       "12486   youtube       en        Sarah Wales            NaN   \n",
       "12487   youtube       en  Damoreah Mitchell            NaN   \n",
       "12488   youtube       en   Adelaide Hemlock            NaN   \n",
       "12489   youtube       en         Flumazenil            NaN   \n",
       "12490   youtube       en                  H            NaN   \n",
       "\n",
       "                                               Full Text  \\\n",
       "0      I got the Moderna vaccine, hereâ€™s my list of...   \n",
       "1      @Charlotte Haggerty Do you really believe ever...   \n",
       "2      I hate it when they say \"You don't want a covi...   \n",
       "3      @Sweet Heart Well, Quantas, an Australian airl...   \n",
       "4      @AngryAngy Here they recommend a flu shot duri...   \n",
       "...                                                  ...   \n",
       "12486  Pfizer - The most fined Corporation in the US ...   \n",
       "12487  How is this women the first person to get the ...   \n",
       "12488  Breast cancer survivor: good question! Iâ€™ve ...   \n",
       "12489            Panel members first to get the vaccine.   \n",
       "12490  @Tom R It won't return that easily. Many busin...   \n",
       "\n",
       "                                            Original Url Thread Entry Type  \\\n",
       "0      https://www.youtube.com/watch?v=sT80A5uPREolc=...             reply   \n",
       "1      https://www.youtube.com/watch?v=dxVCqwAD8gQlc=...             reply   \n",
       "2      https://www.youtube.com/watch?v=2Wz7KvLFgYQlc=...             reply   \n",
       "3      https://www.youtube.com/watch?v=dxVCqwAD8gQlc=...             reply   \n",
       "4      https://www.youtube.com/watch?v=7VG_s2PCH_clc=...             reply   \n",
       "...                                                  ...               ...   \n",
       "12486  http://www.youtube.com/all_comments?v=JMEK0-zO...             reply   \n",
       "12487  https://www.youtube.com/watch?v=aWAly3INavMlc=...             reply   \n",
       "12488  http://www.youtube.com/all_comments?v=XWG_Jypo...             reply   \n",
       "12489  http://www.youtube.com/all_comments?v=tG7CzK5J...             reply   \n",
       "12490  http://www.youtube.com/all_comments?v=zhTmjZVR...             reply   \n",
       "\n",
       "      Page Type Name  Pub Type  \n",
       "0            YouTube  VCOMMENT  \n",
       "1            YouTube  VCOMMENT  \n",
       "2            YouTube  VCOMMENT  \n",
       "3            YouTube  VCOMMENT  \n",
       "4            YouTube  VCOMMENT  \n",
       "...              ...       ...  \n",
       "12486        YouTube  VCOMMENT  \n",
       "12487        YouTube  VCOMMENT  \n",
       "12488        YouTube  VCOMMENT  \n",
       "12489        YouTube  VCOMMENT  \n",
       "12490        YouTube  VCOMMENT  \n",
       "\n",
       "[12491 rows x 13 columns]"
      ]
     },
     "execution_count": 7,
     "metadata": {},
     "output_type": "execute_result"
    }
   ],
   "source": [
    "en_only = you_uniq.loc[you_uniq['Language'] == 'en']\n",
    "en_only"
   ]
  },
  {
   "cell_type": "code",
   "execution_count": 8,
   "metadata": {},
   "outputs": [
    {
     "data": {
      "text/plain": [
       "0    I got the Moderna vaccine, hereâ€™s my list of...\n",
       "1    @Charlotte Haggerty Do you really believe ever...\n",
       "2    I hate it when they say \"You don't want a covi...\n",
       "3    @Sweet Heart Well, Quantas, an Australian airl...\n",
       "4    @AngryAngy Here they recommend a flu shot duri...\n",
       "Name: Full Text, dtype: object"
      ]
     },
     "execution_count": 8,
     "metadata": {},
     "output_type": "execute_result"
    }
   ],
   "source": [
    "en_only['Full Text'].head()"
   ]
  },
  {
   "cell_type": "markdown",
   "metadata": {},
   "source": [
    "Lowercase all english text to make it more readable"
   ]
  },
  {
   "cell_type": "code",
   "execution_count": 9,
   "metadata": {},
   "outputs": [
    {
     "data": {
      "text/plain": [
       "0     i got the moderna vaccine, hereâ€™s my list of...\n",
       "1     @charlotte haggerty do you really believe ever...\n",
       "2     i hate it when they say \"you don't want a covi...\n",
       "3     @sweet heart well, quantas, an australian airl...\n",
       "4     @angryangy here they recommend a flu shot duri...\n",
       "5     we don't need a corona vaccine, we need a come...\n",
       "6     i had no idea of who this guy was prior to thi...\n",
       "7     @angryangy zero medical test is done before se...\n",
       "8     @justin kirschenman i don't know about your lo...\n",
       "9     remember when the french scientist said test a...\n",
       "10    @angryangy i've only said to limit vaccines an...\n",
       "11    use your brain please , samiitb so many people...\n",
       "12    @krish soni , i am assuming that english isn't...\n",
       "13    the south african variant is the one to keep y...\n",
       "14                part of the satan gates vaccine club!\n",
       "15    enough of the lies already. it is patently rid...\n",
       "16    @angryangy america has a different schedule. a...\n",
       "17    i love the jre, but joe is pretty careless, no...\n",
       "18    @charlie williamson look at the ingredients in...\n",
       "19    @kristi allman first of all, autism is not 'no...\n",
       "Name: text_lower, dtype: object"
      ]
     },
     "execution_count": 9,
     "metadata": {},
     "output_type": "execute_result"
    }
   ],
   "source": [
    "en_only['text_lower'] = [x.lower() for x in en_only['Full Text']]\n",
    "en_only['text_lower'].head(20)"
   ]
  },
  {
   "cell_type": "markdown",
   "metadata": {},
   "source": [
    "I then wanted to check for positive or negative connotation words, so i began a Vader analysis."
   ]
  },
  {
   "cell_type": "code",
   "execution_count": 10,
   "metadata": {},
   "outputs": [],
   "source": [
    "analyser = SentimentIntensityAnalyzer()\n",
    "warnings.filterwarnings('ignore')"
   ]
  },
  {
   "cell_type": "code",
   "execution_count": 11,
   "metadata": {},
   "outputs": [
    {
     "data": {
      "text/plain": [
       "0     {'neg': 0.0, 'neu': 1.0, 'pos': 0.0, 'compound...\n",
       "1     {'neg': 0.0, 'neu': 1.0, 'pos': 0.0, 'compound...\n",
       "2     {'neg': 0.076, 'neu': 0.728, 'pos': 0.196, 'co...\n",
       "3     {'neg': 0.06, 'neu': 0.817, 'pos': 0.123, 'com...\n",
       "4     {'neg': 0.105, 'neu': 0.792, 'pos': 0.103, 'co...\n",
       "5     {'neg': 0.0, 'neu': 0.949, 'pos': 0.051, 'comp...\n",
       "6     {'neg': 0.098, 'neu': 0.902, 'pos': 0.0, 'comp...\n",
       "7     {'neg': 0.0, 'neu': 0.851, 'pos': 0.149, 'comp...\n",
       "8     {'neg': 0.036, 'neu': 0.811, 'pos': 0.154, 'co...\n",
       "9     {'neg': 0.0, 'neu': 1.0, 'pos': 0.0, 'compound...\n",
       "10    {'neg': 0.047, 'neu': 0.886, 'pos': 0.067, 'co...\n",
       "11    {'neg': 0.246, 'neu': 0.719, 'pos': 0.035, 'co...\n",
       "12    {'neg': 0.051, 'neu': 0.882, 'pos': 0.067, 'co...\n",
       "13    {'neg': 0.135, 'neu': 0.778, 'pos': 0.087, 'co...\n",
       "14    {'neg': 0.0, 'neu': 1.0, 'pos': 0.0, 'compound...\n",
       "15    {'neg': 0.155, 'neu': 0.845, 'pos': 0.0, 'comp...\n",
       "16    {'neg': 0.134, 'neu': 0.841, 'pos': 0.025, 'co...\n",
       "17    {'neg': 0.064, 'neu': 0.638, 'pos': 0.298, 'co...\n",
       "18    {'neg': 0.118, 'neu': 0.82, 'pos': 0.062, 'com...\n",
       "19    {'neg': 0.055, 'neu': 0.936, 'pos': 0.009, 'co...\n",
       "Name: vader_scores, dtype: object"
      ]
     },
     "execution_count": 11,
     "metadata": {},
     "output_type": "execute_result"
    }
   ],
   "source": [
    "en_only['vader_scores'] = [analyser.polarity_scores(x) for x in en_only['Full Text']]\n",
    "en_only['vader_scores'].head(20)"
   ]
  },
  {
   "cell_type": "code",
   "execution_count": 20,
   "metadata": {},
   "outputs": [
    {
     "data": {
      "text/plain": [
       "0        0.000\n",
       "1        0.000\n",
       "2        0.196\n",
       "3        0.123\n",
       "4        0.103\n",
       "         ...  \n",
       "12486    0.127\n",
       "12487    0.131\n",
       "12488    0.178\n",
       "12489    0.000\n",
       "12490    0.000\n",
       "Name: pos, Length: 12491, dtype: float64"
      ]
     },
     "execution_count": 20,
     "metadata": {},
     "output_type": "execute_result"
    }
   ],
   "source": [
    "en_only['pos'] = [x['pos'] for x in en_only['vader_scores']]\n",
    "en_only['pos']"
   ]
  },
  {
   "cell_type": "code",
   "execution_count": 21,
   "metadata": {},
   "outputs": [
    {
     "data": {
      "image/png": "[encoded data removed]",
      "text/plain": [
       "<Figure size 720x720 with 1 Axes>"
      ]
     },
     "metadata": {
      "needs_background": "light"
     },
     "output_type": "display_data"
    }
   ],
   "source": [
    "fig, ax0 = plt.subplots(figsize = (10,10))\n",
    "ax0.plot(en_only['pos'])\n",
    "plt.xticks(rotation=90, fontsize = 'small')\n",
    "plt.show()"
   ]
  },
  {
   "cell_type": "markdown",
   "metadata": {},
   "source": [
    "from this analysis I could see that the words have a nearly even distribution of positive and negative connotations, but no words were too awful in these comments."
   ]
  },
  {
   "cell_type": "markdown",
   "metadata": {},
   "source": [
    "Now I wanted to \"tokenize\" or assign each word from the lowered text column in the dataframe to a string"
   ]
  },
  {
   "cell_type": "code",
   "execution_count": 12,
   "metadata": {
    "scrolled": true
   },
   "outputs": [
    {
     "data": {
      "text/plain": [
       "['@',\n",
       " 'charlotte',\n",
       " 'haggerty',\n",
       " 'do',\n",
       " 'you',\n",
       " 'really',\n",
       " 'believe',\n",
       " 'everything',\n",
       " 'your',\n",
       " 'told',\n",
       " '?',\n",
       " 'no',\n",
       " ',',\n",
       " 'the',\n",
       " 'vaccines',\n",
       " 'will',\n",
       " 'not',\n",
       " 'end',\n",
       " 'the',\n",
       " 'pandemic',\n",
       " '.',\n",
       " 'herd',\n",
       " 'immunization',\n",
       " 'is',\n",
       " 'what',\n",
       " 'will',\n",
       " 'do',\n",
       " 'it',\n",
       " '.',\n",
       " 'however',\n",
       " ',',\n",
       " 'they',\n",
       " 'will',\n",
       " 'claim',\n",
       " 'that',\n",
       " 'it',\n",
       " 'is',\n",
       " 'the',\n",
       " 'vaccine',\n",
       " 'that',\n",
       " 'did',\n",
       " 'it',\n",
       " '.',\n",
       " 'the',\n",
       " 'virus',\n",
       " 'will',\n",
       " 'be',\n",
       " 'gone',\n",
       " 'by',\n",
       " 'august',\n",
       " ',',\n",
       " 'btw',\n",
       " '.']"
      ]
     },
     "execution_count": 12,
     "metadata": {},
     "output_type": "execute_result"
    }
   ],
   "source": [
    "en_only['tokens'] = [tk.word_tokenize(x) for x in en_only['text_lower']]\n",
    "en_only['tokens'][1]"
   ]
  },
  {
   "cell_type": "markdown",
   "metadata": {},
   "source": [
    "Begin to remove certain words from the datset that don't matter to the analysis"
   ]
  },
  {
   "cell_type": "code",
   "execution_count": 13,
   "metadata": {},
   "outputs": [],
   "source": [
    "mystopwords = stopwords.words('english')\n",
    "mystopwords.append(\"n't\")\n",
    "mystopwords.append(\"'s'\")"
   ]
  },
  {
   "cell_type": "markdown",
   "metadata": {},
   "source": [
    "filter by those stopwords and append it to the 'filtered' column"
   ]
  },
  {
   "cell_type": "code",
   "execution_count": 14,
   "metadata": {},
   "outputs": [],
   "source": [
    "filtered = []\n",
    "for i in en_only['tokens']:\n",
    "    filtered.append([word for word in i if word not in mystopwords])\n",
    "    \n",
    "en_only['filtered'] = filtered"
   ]
  },
  {
   "cell_type": "code",
   "execution_count": 15,
   "metadata": {},
   "outputs": [
    {
     "data": {
      "text/plain": [
       "['hate',\n",
       " 'say',\n",
       " '``',\n",
       " 'want',\n",
       " 'covid',\n",
       " 'vaccine',\n",
       " '?',\n",
       " 'well',\n",
       " ',',\n",
       " 'worked',\n",
       " 'smallpox',\n",
       " 'polio',\n",
       " '!',\n",
       " '!',\n",
       " '!',\n",
       " \"''\",\n",
       " '.',\n",
       " 'yeah',\n",
       " \"'s\",\n",
       " 'difference',\n",
       " ':',\n",
       " 'covid',\n",
       " 'even',\n",
       " '0.1',\n",
       " '%',\n",
       " 'deadly',\n",
       " 'smallpox',\n",
       " 'example',\n",
       " '.',\n",
       " \"'s\",\n",
       " 'issue',\n",
       " '.',\n",
       " \"'m\",\n",
       " 'definitely',\n",
       " 'vaccines',\n",
       " ',',\n",
       " 'would',\n",
       " 'stupid',\n",
       " 'great',\n",
       " 'advancement',\n",
       " 'mankind',\n",
       " '.',\n",
       " 'vaccinate',\n",
       " 'everything',\n",
       " '?',\n",
       " 'mean',\n",
       " 'cmon',\n",
       " '...',\n",
       " 'support',\n",
       " 'covid',\n",
       " 'vaccinations',\n",
       " 'people',\n",
       " 'older',\n",
       " '65',\n",
       " 'etc',\n",
       " 'definitely',\n",
       " 'people',\n",
       " 'ages',\n",
       " '0-35',\n",
       " '...']"
      ]
     },
     "execution_count": 15,
     "metadata": {},
     "output_type": "execute_result"
    }
   ],
   "source": [
    "en_only['filtered'][2]"
   ]
  },
  {
   "cell_type": "markdown",
   "metadata": {},
   "source": [
    "Now that the stopwords have been removed, the punctuation that is still in the set is taking up a lot of room, so remove the punctuation and append the 'no_punct' column"
   ]
  },
  {
   "cell_type": "code",
   "execution_count": 16,
   "metadata": {},
   "outputs": [
    {
     "data": {
      "text/plain": [
       "['hate',\n",
       " 'say',\n",
       " '``',\n",
       " 'want',\n",
       " 'covid',\n",
       " 'vaccine',\n",
       " 'well',\n",
       " 'worked',\n",
       " 'smallpox',\n",
       " 'polio',\n",
       " \"''\",\n",
       " 'yeah',\n",
       " \"'s\",\n",
       " 'difference',\n",
       " 'covid',\n",
       " 'even',\n",
       " '0.1',\n",
       " 'deadly',\n",
       " 'smallpox',\n",
       " 'example',\n",
       " \"'s\",\n",
       " 'issue',\n",
       " \"'m\",\n",
       " 'definitely',\n",
       " 'vaccines',\n",
       " 'would',\n",
       " 'stupid',\n",
       " 'great',\n",
       " 'advancement',\n",
       " 'mankind',\n",
       " 'vaccinate',\n",
       " 'everything',\n",
       " 'mean',\n",
       " 'cmon',\n",
       " '...',\n",
       " 'support',\n",
       " 'covid',\n",
       " 'vaccinations',\n",
       " 'people',\n",
       " 'older',\n",
       " '65',\n",
       " 'etc',\n",
       " 'definitely',\n",
       " 'people',\n",
       " 'ages',\n",
       " '0-35',\n",
       " '...']"
      ]
     },
     "execution_count": 16,
     "metadata": {},
     "output_type": "execute_result"
    }
   ],
   "source": [
    "no_punct = []\n",
    "for i in en_only['filtered']:\n",
    "    no_punct.append([word for word in i if word not in string.punctuation])\n",
    "    \n",
    "en_only['no_punct'] = no_punct\n",
    "en_only['no_punct'][2]"
   ]
  },
  {
   "cell_type": "markdown",
   "metadata": {},
   "source": [
    "Display just the date column and the Full Text column to decide what strings I might search by to find anti-vacination comments"
   ]
  },
  {
   "cell_type": "code",
   "execution_count": 17,
   "metadata": {},
   "outputs": [
    {
     "data": {
      "text/html": [
       "<div>\n",
       "<style scoped>\n",
       "    .dataframe tbody tr th:only-of-type {\n",
       "        vertical-align: middle;\n",
       "    }\n",
       "\n",
       "    .dataframe tbody tr th {\n",
       "        vertical-align: top;\n",
       "    }\n",
       "\n",
       "    .dataframe thead th {\n",
       "        text-align: right;\n",
       "    }\n",
       "</style>\n",
       "<table border=\"1\" class=\"dataframe\">\n",
       "  <thead>\n",
       "    <tr style=\"text-align: right;\">\n",
       "      <th></th>\n",
       "      <th>no_punct</th>\n",
       "    </tr>\n",
       "  </thead>\n",
       "  <tbody>\n",
       "    <tr>\n",
       "      <th>0</th>\n",
       "      <td>[got, moderna, vaccine, hereâ€™s, list, side, ...</td>\n",
       "    </tr>\n",
       "    <tr>\n",
       "      <th>1</th>\n",
       "      <td>[charlotte, haggerty, really, believe, everyth...</td>\n",
       "    </tr>\n",
       "    <tr>\n",
       "      <th>2</th>\n",
       "      <td>[hate, say, ``, want, covid, vaccine, well, wo...</td>\n",
       "    </tr>\n",
       "    <tr>\n",
       "      <th>3</th>\n",
       "      <td>[sweet, heart, well, quantas, australian, airl...</td>\n",
       "    </tr>\n",
       "    <tr>\n",
       "      <th>4</th>\n",
       "      <td>[angryangy, recommend, flu, shot, pregnancy, b...</td>\n",
       "    </tr>\n",
       "  </tbody>\n",
       "</table>\n",
       "</div>"
      ],
      "text/plain": [
       "                                            no_punct\n",
       "0  [got, moderna, vaccine, hereâ€™s, list, side, ...\n",
       "1  [charlotte, haggerty, really, believe, everyth...\n",
       "2  [hate, say, ``, want, covid, vaccine, well, wo...\n",
       "3  [sweet, heart, well, quantas, australian, airl...\n",
       "4  [angryangy, recommend, flu, shot, pregnancy, b..."
      ]
     },
     "execution_count": 17,
     "metadata": {},
     "output_type": "execute_result"
    }
   ],
   "source": [
    "en_only[['no_punct']].head()"
   ]
  },
  {
   "cell_type": "markdown",
   "metadata": {},
   "source": [
    "Now I search by the no_punct column for those that contain certain strings (lead, aluminum, or mercury) and add them to a new dataframe and count them for plotting later"
   ]
  },
  {
   "cell_type": "code",
   "execution_count": 18,
   "metadata": {
    "scrolled": true
   },
   "outputs": [],
   "source": [
    "searched_lead_df = en_only[en_only['no_punct'].astype(str).str.contains(\"lead\")]\n",
    "lead_count = len(searched_lead_df)\n",
    "searched_mercury_df = en_only[en_only['no_punct'].astype(str).str.contains(\"mercury\")]\n",
    "mercury_count = len(searched_mercury_df)\n",
    "searched_aluminum_df = en_only[en_only['no_punct'].astype(str).str.contains(\"aluminum\")]\n",
    "aluminum_count = len(searched_aluminum_df)\n",
    "searched_metals_df = en_only[en_only['no_punct'].astype(str).str.contains(\"aluminum|mercury|lead\")]"
   ]
  },
  {
   "cell_type": "markdown",
   "metadata": {},
   "source": [
    "I then wanted to search this dataframe and extract only the rows that also contain mentions of autism and those that contain mentions of both metals and autism."
   ]
  },
  {
   "cell_type": "code",
   "execution_count": 19,
   "metadata": {},
   "outputs": [
    {
     "ename": "NameError",
     "evalue": "name 'searched_df' is not defined",
     "output_type": "error",
     "traceback": [
      "\u001b[1;31m---------------------------------------------------------------------------\u001b[0m",
      "\u001b[1;31mNameError\u001b[0m                                 Traceback (most recent call last)",
      "\u001b[1;32m<ipython-input-19-bcb6292867b3>\u001b[0m in \u001b[0;36m<module>\u001b[1;34m\u001b[0m\n\u001b[1;32m----> 1\u001b[1;33m \u001b[0msearched_autism_df\u001b[0m \u001b[1;33m=\u001b[0m \u001b[0msearched_df\u001b[0m\u001b[1;33m[\u001b[0m\u001b[0msearched_df\u001b[0m\u001b[1;33m[\u001b[0m\u001b[1;34m'no_punct'\u001b[0m\u001b[1;33m]\u001b[0m\u001b[1;33m.\u001b[0m\u001b[0mastype\u001b[0m\u001b[1;33m(\u001b[0m\u001b[0mstr\u001b[0m\u001b[1;33m)\u001b[0m\u001b[1;33m.\u001b[0m\u001b[0mstr\u001b[0m\u001b[1;33m.\u001b[0m\u001b[0mcontains\u001b[0m\u001b[1;33m(\u001b[0m\u001b[1;34m\"autism\"\u001b[0m\u001b[1;33m)\u001b[0m\u001b[1;33m]\u001b[0m\u001b[1;33m\u001b[0m\u001b[1;33m\u001b[0m\u001b[0m\n\u001b[0m\u001b[0;32m      2\u001b[0m \u001b[0mautism_count\u001b[0m \u001b[1;33m=\u001b[0m \u001b[0mlen\u001b[0m\u001b[1;33m(\u001b[0m\u001b[0msearched_autism_df\u001b[0m\u001b[1;33m)\u001b[0m\u001b[1;33m\u001b[0m\u001b[1;33m\u001b[0m\u001b[0m\n\u001b[0;32m      3\u001b[0m \u001b[0msearched_metalsandautism_df\u001b[0m \u001b[1;33m=\u001b[0m \u001b[0msearched_metals_df\u001b[0m\u001b[1;33m[\u001b[0m\u001b[0msearched_metals_df\u001b[0m\u001b[1;33m[\u001b[0m\u001b[1;34m'no_punct'\u001b[0m\u001b[1;33m]\u001b[0m\u001b[1;33m.\u001b[0m\u001b[0mastype\u001b[0m\u001b[1;33m(\u001b[0m\u001b[0mstr\u001b[0m\u001b[1;33m)\u001b[0m\u001b[1;33m.\u001b[0m\u001b[0mstr\u001b[0m\u001b[1;33m.\u001b[0m\u001b[0mcontains\u001b[0m\u001b[1;33m(\u001b[0m\u001b[1;34m\"autism\"\u001b[0m\u001b[1;33m)\u001b[0m\u001b[1;33m]\u001b[0m\u001b[1;33m\u001b[0m\u001b[1;33m\u001b[0m\u001b[0m\n\u001b[0;32m      4\u001b[0m \u001b[0mcombined_count\u001b[0m \u001b[1;33m=\u001b[0m \u001b[0mlen\u001b[0m\u001b[1;33m(\u001b[0m\u001b[0msearched_metalsandautism_df\u001b[0m\u001b[1;33m)\u001b[0m\u001b[1;33m\u001b[0m\u001b[1;33m\u001b[0m\u001b[0m\n",
      "\u001b[1;31mNameError\u001b[0m: name 'searched_df' is not defined"
     ]
    }
   ],
   "source": [
    "searched_autism_df = searched_df[searched_df['no_punct'].astype(str).str.contains(\"autism\")]\n",
    "autism_count = len(searched_autism_df)\n",
    "searched_metalsandautism_df = searched_metals_df[searched_metals_df['no_punct'].astype(str).str.contains(\"autism\")]\n",
    "combined_count = len(searched_metalsandautism_df)"
   ]
  },
  {
   "cell_type": "markdown",
   "metadata": {},
   "source": [
    "Now I want to show this data in a more clear manner as a pie chart:"
   ]
  },
  {
   "cell_type": "code",
   "execution_count": null,
   "metadata": {},
   "outputs": [],
   "source": [
    "my_data = [lead_count, mercury_count, aluminum_count, autism_count, combined_count]\n",
    "my_labels = ['Lead Comments', 'Mercury Comments', 'Aluminum Comments', 'Autism Comments', 'Comments with Metals and Autism']\n",
    "my_colors = ['darkslateblue','silver','lightgrey', 'gold', 'red']\n",
    "my_explode = [0.1, 0, 0, 0, 0]\n",
    "plt.pie(my_data, labels=my_labels, autopct='%1.1f%%', shadow = True, colors=my_colors, explode=my_explode)\n",
    "plt.title('Anti-vaccine mentions in Youtube Comments')\n",
    "plt.axis('equal')\n",
    "plt.show()"
   ]
  },
  {
   "cell_type": "markdown",
   "metadata": {},
   "source": [
    "## Analysis\n",
    "\n",
    "The analysis revealed that the majority of comments contained mentions of the metal lead over other metals and that not many comments containd metals and mentions of autism."
   ]
  },
  {
   "cell_type": "markdown",
   "metadata": {},
   "source": [
    "## Conclusions, Limitations, Alternative Approaches, & Next Steps\n",
    "\n",
    "As I analyzed the data, I discovered that there were remarkably fewer comments that mentioned autism and metals together. This surprised me, as in pop culture, you see many mentions of thos who are against vaccinations believing that they and the metals contained within have a connection to autism in children.\n",
    "\n",
    "From this I can state that my hypothesis that comments that contain mentions of metals will also contain mentions of autism is wrong, with more comments simply mentioning metals in vaccines over their correlation to autism in children.\n",
    "\n",
    "One surprising fact coming out of this is that a majority of comments mentioned lead over other metals, leading me to believe that a general consensus among the Anti-vaccine commenters is that lead is found abundantly in vaccines.\n",
    "\n",
    "In the future, I could compare the mentions of metals to the negative tokens of words such as 'deadly' and 'die' to find if there is a correlation between the sentiment of vaccines having metals in them and negative side effects."
   ]
  }
 ],
 "metadata": {
  "kernelspec": {
   "display_name": "Python 3",
   "language": "python",
   "name": "python3"
  },
  "language_info": {
   "codemirror_mode": {
    "name": "ipython",
    "version": 3
   },
   "file_extension": ".py",
   "mimetype": "text/x-python",
   "name": "python",
   "nbconvert_exporter": "python",
   "pygments_lexer": "ipython3",
   "version": "3.8.5"
  }
 },
 "nbformat": 4,
 "nbformat_minor": 4
}
