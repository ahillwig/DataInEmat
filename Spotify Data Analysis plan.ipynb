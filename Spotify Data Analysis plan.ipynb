{
 "cells": [
  {
   "cell_type": "markdown",
   "metadata": {},
   "source": [
    "## Analysis Plan\n",
    "This dataset contains 6 total albums (3 from STARSET and 3 from Kid Cudi) and data on every song from those albums.\n",
    "\n",
    "This analysis will compare the popularity score of the songs to their tempo and \"speechiness\" score and from there I can draw my conclusions on if there are correlations between faster songs and popularity and how it differs between the genres.\n",
    "\n",
    "I plan on using a histogram for each artists' song data to compare the tempo VS popularity VS speechiness. I may overlay these histograms and analyze any similarities that stand out. In this way I can compare the genres to see how popularity of songs differ based on tempo. \n",
    "\n",
    "I also might use a T test to analyze the difference in the average popularity of the genres and overall speechiness of the songs, and draw conclusions from there as well."
   ]
  },
  {
   "cell_type": "markdown",
   "metadata": {},
   "source": [
    "I first had to import pandas for my dataframe and any other data analysis tools I might work with."
   ]
  },
  {
   "cell_type": "code",
   "execution_count": 19,
   "metadata": {},
   "outputs": [],
   "source": [
    "import pandas as pd\n",
    "import matplotlib\n",
    "from matplotlib import pyplot as plt"
   ]
  },
  {
   "cell_type": "markdown",
   "metadata": {},
   "source": [
    "I then had to read in the spotify dataset that I would be working with, checking the keys to make sure that the data I wanted was there."
   ]
  },
  {
   "cell_type": "code",
   "execution_count": 20,
   "metadata": {},
   "outputs": [
    {
     "data": {
      "text/plain": [
       "Index(['Unnamed: 0', 'name', 'album', 'artist', 'release_date', 'length',\n",
       "       'popularity', 'danceability', 'acousticness', 'danceability.1',\n",
       "       'energy', 'instrumentalness', 'liveness', 'loudness', 'speechiness',\n",
       "       'tempo', 'time_signature'],\n",
       "      dtype='object')"
      ]
     },
     "execution_count": 20,
     "metadata": {},
     "output_type": "execute_result"
    }
   ],
   "source": [
    "dataset = pd.read_csv(r'C:\\Users\\jchil\\Desktop\\spotifydata.csv')\n",
    "dataset.keys()"
   ]
  },
  {
   "cell_type": "markdown",
   "metadata": {},
   "source": [
    "I then wanted to pull out Kid Cudi's data alone (and STARSET's, individually)"
   ]
  },
  {
   "cell_type": "code",
   "execution_count": 21,
   "metadata": {},
   "outputs": [],
   "source": [
    "cudi_data = dataset.loc[dataset['artist']=='Kid Cudi']\n",
    "starset_data = dataset.loc[dataset['artist']=='STARSET']"
   ]
  },
  {
   "cell_type": "markdown",
   "metadata": {},
   "source": [
    "Now I can plot the datasets that I wanted to look at andbegin my analysis fully, because my data was separated by artist/genre. "
   ]
  },
  {
   "cell_type": "markdown",
   "metadata": {},
   "source": [
    "I wanted to look by album to see popularity trends, so i created yet another dataset that filtered by album."
   ]
  },
  {
   "cell_type": "code",
   "execution_count": 29,
   "metadata": {},
   "outputs": [
    {
     "data": {
      "image/png": "[encoded data removed]",
      "text/plain": [
       "<Figure size 432x288 with 1 Axes>"
      ]
     },
     "metadata": {
      "needs_background": "light"
     },
     "output_type": "display_data"
    }
   ],
   "source": [
    "fig = plt.figure()\n",
    "ax = fig.add_axes([0,0,1,1])\n",
    "albums = starset_data['album']\n",
    "popularity = starset_data['popularity']\n",
    "ax.bar(albums, popularity)\n",
    "ax.set_ylabel('Popularity')\n",
    "ax.set_xlabel('Album')\n",
    "ax.set_title('STARSET Popularity by Album')\n",
    "plt.show()"
   ]
  },
  {
   "cell_type": "code",
   "execution_count": 30,
   "metadata": {},
   "outputs": [
    {
     "data": {
      "image/png": "[encoded data removed]",
      "text/plain": [
       "<Figure size 432x288 with 1 Axes>"
      ]
     },
     "metadata": {
      "needs_background": "light"
     },
     "output_type": "display_data"
    }
   ],
   "source": [
    "fig = plt.figure()\n",
    "ax = fig.add_axes([0,0,1,1])\n",
    "albums = cudi_data['album']\n",
    "popularity = cudi_data['popularity']\n",
    "ax.bar(albums, popularity)\n",
    "ax.set_ylabel('Popularity')\n",
    "ax.set_xlabel('Album')\n",
    "ax.set_title('Kid Cudi Popularity by Album')\n",
    "plt.show()"
   ]
  },
  {
   "cell_type": "markdown",
   "metadata": {},
   "source": [
    "From these plots I can see that overall the Rap genre here is represented as more popular overall, with Kid Cudi's least popular album only dipping to about 60, where STARSET's data peaks."
   ]
  },
  {
   "cell_type": "code",
   "execution_count": null,
   "metadata": {},
   "outputs": [],
   "source": []
  }
 ],
 "metadata": {
  "kernelspec": {
   "display_name": "Python 3",
   "language": "python",
   "name": "python3"
  },
  "language_info": {
   "codemirror_mode": {
    "name": "ipython",
    "version": 3
   },
   "file_extension": ".py",
   "mimetype": "text/x-python",
   "name": "python",
   "nbconvert_exporter": "python",
   "pygments_lexer": "ipython3",
   "version": "3.8.5"
  }
 },
 "nbformat": 4,
 "nbformat_minor": 4
}
