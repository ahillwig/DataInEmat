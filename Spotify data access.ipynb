{
 "cells": [
  {
   "cell_type": "markdown",
   "metadata": {},
   "source": [
    "## Youtube Music Data\n",
    "I tried for hours to get hte YTMusicapi to work, but it would not handle my headers that i got off of the youtube music website. It would just throw an EOL error due to the size of the headers or be unable to call the terminal window using the headers_auth.json found in the library. This meant that I had to change what data I would compare my spotify data to."
   ]
  },
  {
   "cell_type": "markdown",
   "metadata": {},
   "source": [
    "## Apple Music Data\n",
    "I also tried to get Apple Music to work, but apple required a developer account which is a paid subscription. At this point, I decided to solely rely on the spotify API for the data I wanted to work with, which required me changing my overall question for this project."
   ]
  },
  {
   "cell_type": "markdown",
   "metadata": {},
   "source": [
    "## New Focus Question\n",
    "My new focus for this project was to compare genres within the spotify data. I mainly listen to rock and alternative rock on Spotify, so I thought it would be interesting to compare an album from one of my favorite artists to an album from one of the most popular artists of a genre I ususally don't listen to.\n",
    "\n",
    "For this reason, I chose to compare STARSET's DIVISIONS album (Rock/Metal/Alternative)\n",
    "to Kid Cudi's MAN ON THE MOON II:: The Legend of Mr. Rager (Hip-Hop / Rap)\n",
    "I plan on comparing the most played (or popular) songs from those two albums and drawing my conclusions on why they are the most popular and how viewership differs between the genres."
   ]
  },
  {
   "cell_type": "markdown",
   "metadata": {},
   "source": [
    "## Spotify Data\n",
    "My original plan for this data was to collect the spotify data on every Kanye West song. This was chosen for its popular nature and high likelihood of being streamable on other platforms whereI can compare the data.\n",
    "\n",
    "I wanted to collect data from my own spotify account's credentials and output a CSV file with all the data I would be working with for the final project."
   ]
  },
  {
   "cell_type": "markdown",
   "metadata": {},
   "source": [
    "## Data Collection\n",
    "To collect the spotify data that I would be working with, I first had to import the spotipy library to allow me to call the spotify API in this notebook and use the credentials checker for the library to allow me to create a CSV file with my data in it."
   ]
  },
  {
   "cell_type": "markdown",
   "metadata": {},
   "source": [
    "In order to organize this page, I will call the spotify and other music imports and code in separate sections."
   ]
  },
  {
   "cell_type": "code",
   "execution_count": 9,
   "metadata": {},
   "outputs": [],
   "source": [
    "import spotipy\n",
    "from spotipy.oauth2 import SpotifyClientCredentials\n",
    "import pandas as pd\n",
    "import time "
   ]
  },
  {
   "cell_type": "markdown",
   "metadata": {},
   "source": [
    "Sign in to the API with my client key attained from spotify's web api site"
   ]
  },
  {
   "cell_type": "code",
   "execution_count": 10,
   "metadata": {},
   "outputs": [],
   "source": [
    "client_id = '27f605142e0b4c8894424c03b20b493f'\n",
    "client_secret = 'eaf0caa7dcd744d593ea2ea0b75346a2'\n",
    "\n",
    "client_credentials_manager = SpotifyClientCredentials(client_id, client_secret)\n",
    "sp = spotipy.Spotify(client_credentials_manager=client_credentials_manager)"
   ]
  },
  {
   "cell_type": "markdown",
   "metadata": {},
   "source": [
    "add tracks to my output CSV file and grab the playlist I will be working with from my spotify account (easiest way to collect all albums in one dataset)"
   ]
  },
  {
   "cell_type": "code",
   "execution_count": 11,
   "metadata": {},
   "outputs": [],
   "source": [
    "def getTrackIDs(user, playlist_id):\n",
    "    ids = []\n",
    "    playlist = sp.user_playlist(user, playlist_id)\n",
    "    for item in playlist['tracks']['items']:\n",
    "        track = item['track']\n",
    "        ids.append(track['id'])\n",
    "    return ids\n",
    "\n",
    "ids = getTrackIDs('aghillwig', '078anpZHf0hgPL9lQJUro6')"
   ]
  },
  {
   "cell_type": "markdown",
   "metadata": {},
   "source": [
    "Grab all data from spotify metadata and add to csv output"
   ]
  },
  {
   "cell_type": "code",
   "execution_count": 12,
   "metadata": {},
   "outputs": [],
   "source": [
    "def getTrackFeatures(id):\n",
    "  meta = sp.track(id)\n",
    "  features = sp.audio_features(id)\n",
    "\n",
    "  # meta\n",
    "  name = meta['name']\n",
    "  album = meta['album']['name']\n",
    "  artist = meta['album']['artists'][0]['name']\n",
    "  release_date = meta['album']['release_date']\n",
    "  length = meta['duration_ms']\n",
    "  popularity = meta['popularity']\n",
    "\n",
    "  # features\n",
    "  acousticness = features[0]['acousticness']\n",
    "  danceability = features[0]['danceability']\n",
    "  energy = features[0]['energy']\n",
    "  instrumentalness = features[0]['instrumentalness']\n",
    "  liveness = features[0]['liveness']\n",
    "  loudness = features[0]['loudness']\n",
    "  speechiness = features[0]['speechiness']\n",
    "  tempo = features[0]['tempo']\n",
    "  time_signature = features[0]['time_signature']\n",
    "\n",
    "  track = [name, album, artist, release_date, length, popularity, danceability, acousticness, danceability, energy, instrumentalness, liveness, loudness, speechiness, tempo, time_signature]\n",
    "  return track"
   ]
  },
  {
   "cell_type": "markdown",
   "metadata": {},
   "source": [
    "Add the tracks to the dataframe, then create the csv file, putting it in a specific location on my computer"
   ]
  },
  {
   "cell_type": "code",
   "execution_count": 13,
   "metadata": {},
   "outputs": [
    {
     "name": "stdout",
     "output_type": "stream",
     "text": [
      "                             name  \\\n",
      "0   A BRIEF HISTORY OF THE FUTURE   \n",
      "1                        MANIFEST   \n",
      "2                            ECHO   \n",
      "3                     DIVING BELL   \n",
      "4         OTHER WORLDS THAN THESE   \n",
      "5                       WAKING UP   \n",
      "6                          TRIALS   \n",
      "7                        SOLSTICE   \n",
      "8                       FAULTLINE   \n",
      "9                    STRATOSPHERE   \n",
      "10                    TELEKINETIC   \n",
      "11                PERFECT MACHINE   \n",
      "12            WHERE THE SKIES END   \n",
      "13             Trapped In My Mind   \n",
      "14                         GHOST!   \n",
      "15                      All Along   \n",
      "16                        The End   \n",
      "17                  These Worries   \n",
      "18                      Mr. Rager   \n",
      "19                         MANIAC   \n",
      "20                       The Mood   \n",
      "21           Wild’n Cuz I’m Young   \n",
      "22                Erase Me - Main   \n",
      "23                  Ashin’ Kusher   \n",
      "24                   Mojo So Dope   \n",
      "25                      Marijuana   \n",
      "26    We Aite (Wake Your Mind Up)   \n",
      "27           Don’t Play This Song   \n",
      "28                        REVOFEV   \n",
      "29    Scott Mescudi Vs. The World   \n",
      "\n",
      "                                          album    artist release_date  \\\n",
      "0                                     DIVISIONS   STARSET   2019-09-13   \n",
      "1                                     DIVISIONS   STARSET   2019-09-13   \n",
      "2                                     DIVISIONS   STARSET   2019-09-13   \n",
      "3                                     DIVISIONS   STARSET   2019-09-13   \n",
      "4                                     DIVISIONS   STARSET   2019-09-13   \n",
      "5                                     DIVISIONS   STARSET   2019-09-13   \n",
      "6                                     DIVISIONS   STARSET   2019-09-13   \n",
      "7                                     DIVISIONS   STARSET   2019-09-13   \n",
      "8                                     DIVISIONS   STARSET   2019-09-13   \n",
      "9                                     DIVISIONS   STARSET   2019-09-13   \n",
      "10                                    DIVISIONS   STARSET   2019-09-13   \n",
      "11                                    DIVISIONS   STARSET   2019-09-13   \n",
      "12                                    DIVISIONS   STARSET   2019-09-13   \n",
      "13  Man On The Moon II: The Legend Of Mr. Rager  Kid Cudi   2010-11-09   \n",
      "14  Man On The Moon II: The Legend Of Mr. Rager  Kid Cudi   2010-11-09   \n",
      "15  Man On The Moon II: The Legend Of Mr. Rager  Kid Cudi   2010-11-09   \n",
      "16  Man On The Moon II: The Legend Of Mr. Rager  Kid Cudi   2010-11-09   \n",
      "17  Man On The Moon II: The Legend Of Mr. Rager  Kid Cudi   2010-11-09   \n",
      "18  Man On The Moon II: The Legend Of Mr. Rager  Kid Cudi   2010-11-09   \n",
      "19  Man On The Moon II: The Legend Of Mr. Rager  Kid Cudi   2010-11-09   \n",
      "20  Man On The Moon II: The Legend Of Mr. Rager  Kid Cudi   2010-11-09   \n",
      "21  Man On The Moon II: The Legend Of Mr. Rager  Kid Cudi   2010-11-09   \n",
      "22  Man On The Moon II: The Legend Of Mr. Rager  Kid Cudi   2010-11-09   \n",
      "23  Man On The Moon II: The Legend Of Mr. Rager  Kid Cudi   2010-11-09   \n",
      "24  Man On The Moon II: The Legend Of Mr. Rager  Kid Cudi   2010-11-09   \n",
      "25  Man On The Moon II: The Legend Of Mr. Rager  Kid Cudi   2010-11-09   \n",
      "26  Man On The Moon II: The Legend Of Mr. Rager  Kid Cudi   2010-11-09   \n",
      "27  Man On The Moon II: The Legend Of Mr. Rager  Kid Cudi   2010-11-09   \n",
      "28  Man On The Moon II: The Legend Of Mr. Rager  Kid Cudi   2010-11-09   \n",
      "29  Man On The Moon II: The Legend Of Mr. Rager  Kid Cudi   2010-11-09   \n",
      "\n",
      "    length  popularity  danceability  acousticness  danceability  energy  \\\n",
      "0    97680          38         0.439      0.042900         0.439   0.529   \n",
      "1   267360          59         0.526      0.000145         0.526   0.874   \n",
      "2   216720          54         0.492      0.000130         0.492   0.688   \n",
      "3   338333          46         0.285      0.004820         0.285   0.552   \n",
      "4   258200          47         0.489      0.000120         0.489   0.836   \n",
      "5   229373          43         0.554      0.008120         0.554   0.707   \n",
      "6   258506          61         0.478      0.000358         0.478   0.667   \n",
      "7   341413          43         0.489      0.000795         0.489   0.667   \n",
      "8   216093          49         0.313      0.000255         0.313   0.733   \n",
      "9   257106          44         0.518      0.001150         0.518   0.824   \n",
      "10  312813          45         0.407      0.000345         0.407   0.848   \n",
      "11  323560          48         0.520      0.003330         0.520   0.763   \n",
      "12  393813          48         0.461      0.003680         0.461   0.761   \n",
      "13  214346          53         0.819      0.503000         0.819   0.698   \n",
      "14  289066          59         0.516      0.049400         0.516   0.708   \n",
      "15  202813          52         0.603      0.800000         0.603   0.344   \n",
      "16  260573          50         0.630      0.194000         0.630   0.773   \n",
      "17  255520          52         0.569      0.057500         0.569   0.608   \n",
      "18  294226          75         0.671      0.389000         0.671   0.726   \n",
      "19  178240          51         0.522      0.078100         0.522   0.660   \n",
      "20  155693          49         0.855      0.778000         0.855   0.825   \n",
      "21  254000          49         0.708      0.786000         0.708   0.550   \n",
      "22  192253          69         0.687      0.063000         0.687   0.631   \n",
      "23  228493          53         0.860      0.734000         0.860   0.638   \n",
      "24  210586          62         0.614      0.547000         0.614   0.785   \n",
      "25  260200          63         0.673      0.829000         0.673   0.403   \n",
      "26   86613          47         0.490      0.386000         0.490   0.528   \n",
      "27  222893          51         0.624      0.896000         0.624   0.628   \n",
      "28  183173          58         0.608      0.150000         0.608   0.544   \n",
      "29  235293          55         0.780      0.280000         0.780   0.720   \n",
      "\n",
      "    instrumentalness  liveness  loudness  speechiness    tempo  time_signature  \n",
      "0           0.265000     0.234   -12.775       0.0707  130.072               4  \n",
      "1           0.000168     0.252    -5.960       0.0494  147.946               4  \n",
      "2           0.000000     0.140    -5.328       0.0357  159.907               4  \n",
      "3           0.000000     0.147    -8.592       0.0451   94.965               4  \n",
      "4           0.000048     0.182    -5.844       0.0599  146.041               4  \n",
      "5           0.000009     0.126    -6.858       0.0387  151.961               4  \n",
      "6           0.000015     0.121    -6.806       0.0537  105.799               4  \n",
      "7           0.000540     0.100    -7.572       0.0420  106.952               4  \n",
      "8           0.000000     0.127    -5.687       0.0724  128.285               4  \n",
      "9           0.012900     0.123    -6.085       0.0785  136.011               4  \n",
      "10          0.000526     0.107    -5.646       0.0518  113.838               4  \n",
      "11          0.000012     0.124    -7.282       0.0589  134.951               4  \n",
      "12          0.000046     0.263    -6.909       0.0536  148.039               4  \n",
      "13          0.000323     0.113    -8.148       0.0339  119.006               4  \n",
      "14          0.000005     0.243    -4.465       0.0253   89.938               3  \n",
      "15          0.681000     0.138    -9.638       0.0258   79.918               4  \n",
      "16          0.098900     0.111    -6.217       0.1200  158.006               4  \n",
      "17          0.748000     0.101    -6.092       0.0303   88.002               4  \n",
      "18          0.882000     0.140    -8.689       0.0272  102.002               4  \n",
      "19          0.078500     0.671   -10.227       0.1070  149.964               4  \n",
      "20          0.000400     0.163    -5.964       0.0931  119.962               4  \n",
      "21          0.126000     0.113   -10.205       0.1520   87.985               4  \n",
      "22          0.000000     0.108    -5.612       0.1290  186.071               4  \n",
      "23          0.000708     0.105    -5.773       0.2010   92.997               4  \n",
      "24          0.844000     0.348    -8.224       0.0673  180.036               4  \n",
      "25          0.829000     0.272    -9.809       0.0273  140.986               4  \n",
      "26          0.876000     0.212    -8.638       0.0342  137.983               4  \n",
      "27          0.008080     0.342    -7.719       0.0434  137.919               4  \n",
      "28          0.000620     0.146    -6.465       0.0474   68.861               4  \n",
      "29          0.591000     0.132    -5.914       0.0278  108.685               4  \n"
     ]
    }
   ],
   "source": [
    "tracks = []\n",
    "for i in range(len(ids)):\n",
    "  time.sleep(.5)\n",
    "  track = getTrackFeatures(ids[i])\n",
    "  tracks.append(track)\n",
    "\n",
    "# create dataset\n",
    "df = pd.DataFrame(tracks, columns = ['name', 'album', 'artist', 'release_date', 'length', 'popularity', 'danceability', 'acousticness', 'danceability', 'energy', 'instrumentalness', 'liveness', 'loudness', 'speechiness', 'tempo', 'time_signature'])\n",
    "df.to_csv(r'C:\\Users\\jchil\\Desktop\\spotifydata.csv', sep = ',')\n",
    "\n",
    "print(df)"
   ]
  },
  {
   "cell_type": "markdown",
   "metadata": {},
   "source": [
    "Here I attempt to start working with the Youtube Music Api and realize that the api has not been updated since early 2020, and does not work."
   ]
  },
  {
   "cell_type": "code",
   "execution_count": 8,
   "metadata": {},
   "outputs": [
    {
     "ename": "NameError",
     "evalue": "name 'headers_auth' is not defined",
     "output_type": "error",
     "traceback": [
      "\u001b[1;31m---------------------------------------------------------------------------\u001b[0m",
      "\u001b[1;31mNameError\u001b[0m                                 Traceback (most recent call last)",
      "\u001b[1;32m<ipython-input-8-bf87dcfcc147>\u001b[0m in \u001b[0;36m<module>\u001b[1;34m\u001b[0m\n\u001b[0;32m      1\u001b[0m \u001b[1;32mfrom\u001b[0m \u001b[0mytmusicapi\u001b[0m \u001b[1;32mimport\u001b[0m \u001b[0mYTMusic\u001b[0m\u001b[1;33m\u001b[0m\u001b[1;33m\u001b[0m\u001b[0m\n\u001b[1;32m----> 2\u001b[1;33m \u001b[0mYTMusic\u001b[0m\u001b[1;33m.\u001b[0m\u001b[0msetup\u001b[0m\u001b[1;33m(\u001b[0m\u001b[0mfilepath\u001b[0m\u001b[1;33m=\u001b[0m\u001b[0mheaders_auth\u001b[0m\u001b[1;33m.\u001b[0m\u001b[0mjson\u001b[0m\u001b[1;33m)\u001b[0m\u001b[1;33m\u001b[0m\u001b[1;33m\u001b[0m\u001b[0m\n\u001b[0m",
      "\u001b[1;31mNameError\u001b[0m: name 'headers_auth' is not defined"
     ]
    }
   ],
   "source": [
    "from ytmusicapi import YTMusic\n",
    "YTMusic.setup(filepath=headers_auth.json)"
   ]
  }
 ],
 "metadata": {
  "kernelspec": {
   "display_name": "Python 3",
   "language": "python",
   "name": "python3"
  },
  "language_info": {
   "codemirror_mode": {
    "name": "ipython",
    "version": 3
   },
   "file_extension": ".py",
   "mimetype": "text/x-python",
   "name": "python",
   "nbconvert_exporter": "python",
   "pygments_lexer": "ipython3",
   "version": "3.8.5"
  }
 },
 "nbformat": 4,
 "nbformat_minor": 4
}
